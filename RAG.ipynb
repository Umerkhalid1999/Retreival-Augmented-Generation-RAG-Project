{
  "nbformat": 4,
  "nbformat_minor": 0,
  "metadata": {
    "colab": {
      "provenance": []
    },
    "kernelspec": {
      "name": "python3",
      "display_name": "Python 3"
    },
    "language_info": {
      "name": "python"
    }
  },
  "cells": [
    {
      "cell_type": "markdown",
      "source": [
        "# **Retreival Augmented Generation Question Answering System**\n",
        "\n",
        "---\n",
        "\n"
      ],
      "metadata": {
        "id": "SIM2jAgET7Vj"
      }
    },
    {
      "cell_type": "code",
      "source": [
        "import os\n",
        "from google.colab import userdata\n",
        "os.environ[\"OPENAI_API_KEY\"] = userdata.get('OPENAI_API_KEY')"
      ],
      "metadata": {
        "id": "gcmbc6WvNzCP"
      },
      "execution_count": null,
      "outputs": []
    },
    {
      "cell_type": "code",
      "source": [
        "from langchain_community.document_loaders import PyPDFLoader\n",
        "from langchain.text_splitter import RecursiveCharacterTextSplitter\n",
        "from langchain_openai import OpenAIEmbeddings\n",
        "from langchain_community.vectorstores import Chroma\n",
        "from langchain_openai import ChatOpenAI\n",
        "from langchain.chains import RetrievalQA\n",
        "from langchain_huggingface import HuggingFaceEmbeddings\n",
        "import warnings\n",
        "warnings.filterwarnings('ignore')\n",
        "\n",
        "import os\n",
        "\n",
        "# Load PDF\n",
        "loader = PyPDFLoader('/content/EMAI.pdf')\n",
        "pages = loader.load()  # This loads all pages\n",
        "\n",
        "# Better text splitting (300-500 chars is typical)\n",
        "text_splitter = RecursiveCharacterTextSplitter(\n",
        "    chunk_size=500,\n",
        "    chunk_overlap=50,\n",
        ")\n",
        "splits = text_splitter.split_documents(pages)\n",
        "\n",
        "# Create vector store\n",
        "embeddings = HuggingFaceEmbeddings(model_name=\"BAAI/bge-small-en-v1.5\") # free\n",
        "vectorstore = Chroma.from_documents(splits, embeddings)\n",
        "\n",
        "# Initialize LLM and retriever\n",
        "llm = ChatOpenAI(model=\"gpt-3.5-turbo\", temperature=0)\n",
        "retriever = vectorstore.as_retriever(search_kwargs={\"k\": 3})  # Get top 3 relevant chunks\n",
        "\n",
        "# Create QA chain\n",
        "qa_chain = RetrievalQA.from_chain_type(\n",
        "    llm=llm,\n",
        "    chain_type=\"stuff\",\n",
        "    retriever=retriever\n",
        ")\n",
        "\n",
        "# Ask SPECIFIC questions from the PDF content\n",
        "response = qa_chain.invoke(\"What are the minimum ECTS requirements for mathematics courses?\")\n",
        "print(\"Answer:\", response[\"result\"])\n"
      ],
      "metadata": {
        "colab": {
          "base_uri": "https://localhost:8080/"
        },
        "id": "HjrAjVfyUlB8",
        "outputId": "44ea1b31-e935-4c7d-cc6a-620e3bdad4dc"
      },
      "execution_count": null,
      "outputs": [
        {
          "output_type": "stream",
          "name": "stdout",
          "text": [
            "Answer: The minimum ECTS requirements for mathematics courses are 12 ECTS credit points.\n"
          ]
        }
      ]
    },
    {
      "cell_type": "markdown",
      "source": [
        "# **Evaluation**\n",
        "- Question -> Query\n",
        "- Response -> From LLM\n",
        "- Expected -> Response from LLM"
      ],
      "metadata": {
        "id": "YsgA7sqFC4qN"
      }
    },
    {
      "cell_type": "code",
      "source": [
        "stest_questions = {\n",
        "    \"What ECTS are required for math courses?\": \"12 ECTS\",\n",
        "    \"List mandatory documents\": \"Identity Card, Degree, Transcript, CV, etc.\"\n",
        "}\n",
        "\n",
        "for question, expected in test_questions.items():\n",
        "    response = qa_chain.invoke(question)\n",
        "    print(f\"Q: {question}\\nA: {response['result']}\\nExpected: {expected}\\n\")"
      ],
      "metadata": {
        "colab": {
          "base_uri": "https://localhost:8080/"
        },
        "id": "E69rvlu9Um02",
        "outputId": "631326c8-88b3-4dca-d952-639b14b6fe0a"
      },
      "execution_count": null,
      "outputs": [
        {
          "output_type": "stream",
          "name": "stdout",
          "text": [
            "Q: What ECTS are required for math courses?\n",
            "A: Math courses require a minimum of 12 ECTS credit points in topics such as calculus, linear algebra, logic, discrete mathematics, combinatorics, probability and statistics, information theory, graph theory, and number theory.\n",
            "Expected: 12 ECTS\n",
            "\n",
            "Q: List mandatory documents\n",
            "A: The mandatory documents required are:\n",
            "1. Identity Card or Passport. If you hold more than one nationality, please attach a copy of all the documents providing those nationalities.\n",
            "2. Official university bachelor's or master's degree from the European Higher Education Area (EHEA) or equivalent foreign degree allowing access to a postgraduate degree in the country that issued the degree. Should the applicant have not from providing the certificate: Australia, Canada (excluding Quebec), New Zealand, the United Kingdom, or the United States of America, or in one of the four member states of the EMAI Consortium.\n",
            "Expected: Identity Card, Degree, Transcript, CV, etc.\n",
            "\n"
          ]
        }
      ]
    },
    {
      "cell_type": "code",
      "source": [],
      "metadata": {
        "id": "MGgNh_2Lbmc5"
      },
      "execution_count": null,
      "outputs": []
    }
  ]
}